{
 "cells": [
  {
   "cell_type": "markdown",
   "id": "1b4d40f7-e6f6-4fe5-8ccc-95429f1f3eda",
   "metadata": {},
   "source": [
    "# Hola"
   ]
  },
  {
   "cell_type": "code",
   "execution_count": null,
   "id": "a990819d-8a32-4450-a062-9edde97b31e7",
   "metadata": {},
   "outputs": [],
   "source": []
  }
 ],
 "metadata": {
  "kernelspec": {
   "display_name": "Python 3 (ipykernel)",
   "language": "python",
   "name": "python3"
  },
  "language_info": {
   "codemirror_mode": {
    "name": "ipython",
    "version": 3
   },
   "file_extension": ".py",
   "mimetype": "text/x-python",
   "name": "python",
   "nbconvert_exporter": "python",
   "pygments_lexer": "ipython3",
   "version": "3.9.1"
  }
 },
 "nbformat": 4,
 "nbformat_minor": 5
}
