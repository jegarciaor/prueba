{
 "cells": [
  {
   "cell_type": "markdown",
   "id": "1b4d40f7-e6f6-4fe5-8ccc-95429f1f3eda",
   "metadata": {},
   "source": [
    "# Hola"
   ]
  },
  {
   "cell_type": "markdown",
   "id": "da28a583",
   "metadata": {},
   "source": [
    "# Aquí iniciando con GITHUB"
   ]
  },
  {
   "cell_type": "code",
   "execution_count": null,
   "id": "bff78b26",
   "metadata": {},
   "outputs": [],
   "source": []
  }
 ],
 "metadata": {
  "kernelspec": {
   "display_name": "Python 3",
   "language": "python",
   "name": "python3"
  },
  "language_info": {
   "codemirror_mode": {
    "name": "ipython",
    "version": 3
   },
   "file_extension": ".py",
   "mimetype": "text/x-python",
   "name": "python",
   "nbconvert_exporter": "python",
   "pygments_lexer": "ipython3",
   "version": "3.9.1"
  }
 },
 "nbformat": 4,
 "nbformat_minor": 5
}
